{
 "cells": [
  {
   "cell_type": "code",
   "execution_count": 26,
   "id": "31fa2956",
   "metadata": {},
   "outputs": [
    {
     "data": {
      "text/plain": [
       "<All keys matched successfully>"
      ]
     },
     "execution_count": 26,
     "metadata": {},
     "output_type": "execute_result"
    }
   ],
   "source": [
    "import torch\n",
    "import torch.nn as nn\n",
    "import torch.optim as optim\n",
    "import numpy as np\n",
    "from tqdm import tqdm\n",
    "from torch.nn.utils import clip_grad_norm_\n",
    "\n",
    "class PredictionModel(nn.Module):\n",
    "    def __init__(self):\n",
    "        super(PredictionModel, self).__init__()\n",
    "        self.fc1 = nn.Linear(2, 64)\n",
    "        self.fc2 = nn.Linear(64, 64)\n",
    "        self.fc3 = nn.Linear(64, 3)\n",
    "\n",
    "    def forward(self, x):\n",
    "        x = torch.relu(self.fc1(x))\n",
    "        x = torch.relu(self.fc2(x))\n",
    "        x = self.fc3(x)\n",
    "        return x\n",
    "\n",
    "model = PredictionModel()\n",
    "model.load_state_dict(torch.load(\"abg_prediction_model_7.pth\"))"
   ]
  },
  {
   "cell_type": "code",
   "execution_count": 28,
   "id": "4511f1be",
   "metadata": {},
   "outputs": [
    {
     "name": "stdout",
     "output_type": "stream",
     "text": [
      "138.01231384277344 220.4696044921875 129.59088134765625\n",
      "5.528076832986036 10.387316507739833\n"
     ]
    }
   ],
   "source": [
    "data = torch.tensor([[5, 10]], dtype=torch.float32)\n",
    "output = model(data)\n",
    "print(output[0][0].item(), output[0][1].item(), output[0][2].item())\n",
    "alpha = np.radians(output[0][0].item())\n",
    "beta = np.radians(output[0][1].item())\n",
    "gamma = np.radians(output[0][2].item())\n",
    "L1 = 13\n",
    "L2 = 12.5\n",
    "L3 = 25\n",
    "R1 = 2.5\n",
    "R2 = 3.5\n",
    "t = 20.9\n",
    "x_cur = L1 * np.sin(alpha) + L2 * np.cos(alpha + beta) - L3 * np.sin(alpha + beta + gamma) - R1 * np.cos(alpha) - R2 * np.cos(alpha + beta + gamma)\n",
    "y_cur = t - L1 * np.cos(alpha) + L2 * np.sin(alpha + beta) + L3 * np.cos(alpha + beta + gamma) - R1 * np.sin(alpha) - R2 * np.sin(alpha + beta + gamma)\n",
    "print(x_cur, y_cur)"
   ]
  },
  {
   "cell_type": "code",
   "execution_count": 29,
   "id": "584ede45",
   "metadata": {},
   "outputs": [
    {
     "name": "stdout",
     "output_type": "stream",
     "text": [
      "138.01231384277344 220.4696044921875 129.59088134765625\n",
      "Code execution time: 0.0010039806365966797 seconds\n"
     ]
    }
   ],
   "source": [
    "import time\n",
    "\n",
    "\n",
    "start_time = time.time()\n",
    "data = torch.tensor([[5, 10]], dtype=torch.float32)\n",
    "output = model(data)\n",
    "print(output[0][0].item(), output[0][1].item(), output[0][2].item())\n",
    "end_time = time.time()\n",
    "\n",
    "execution_time = end_time - start_time\n",
    "\n",
    "print(\"Code execution time: {} seconds\".format(execution_time))"
   ]
  },
  {
   "cell_type": "code",
   "execution_count": null,
   "id": "c42a31f0",
   "metadata": {},
   "outputs": [],
   "source": []
  }
 ],
 "metadata": {
  "kernelspec": {
   "display_name": "Python 3 (ipykernel)",
   "language": "python",
   "name": "python3"
  },
  "language_info": {
   "codemirror_mode": {
    "name": "ipython",
    "version": 3
   },
   "file_extension": ".py",
   "mimetype": "text/x-python",
   "name": "python",
   "nbconvert_exporter": "python",
   "pygments_lexer": "ipython3",
   "version": "3.9.16"
  }
 },
 "nbformat": 4,
 "nbformat_minor": 5
}
