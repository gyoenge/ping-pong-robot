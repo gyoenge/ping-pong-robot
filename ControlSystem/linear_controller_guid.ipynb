{
 "cells": [
  {
   "cell_type": "markdown",
   "metadata": {},
   "source": [
    "쓰레드 확인용 가짜 class"
   ]
  },
  {
   "cell_type": "code",
   "execution_count": 1,
   "id": "50cd5785",
   "metadata": {},
   "outputs": [],
   "source": [
    "import socket\n",
    "import struct\n",
    "import queue\n",
    "import threading\n",
    "from linear_controller import LCThread\n",
    "\n",
    "class Count:\n",
    "    def __init__(self) :\n",
    "        self.count = 0\n",
    "    def print_count(self) :\n",
    "        for i in range(100000000) :\n",
    "            self.count += 1\n",
    "        print(self.count)\n",
    "        \n",
    "class CountThread(threading.Thread):\n",
    "    def __init__(self):\n",
    "        threading.Thread.__init__(self)\n",
    "        self.count = Count()\n",
    "\n",
    "    def run(self):\n",
    "        self.count.print_count()"
   ]
  },
  {
   "cell_type": "markdown",
   "id": "3d85a6ac",
   "metadata": {},
   "source": [
    "쓰레드 클래스 할당"
   ]
  },
  {
   "cell_type": "code",
   "execution_count": 6,
   "id": "05d16697",
   "metadata": {},
   "outputs": [],
   "source": [
    "count_thread = CountThread()\n",
    "lc_thread = LCThread('192.168.0.106', 12345)"
   ]
  },
  {
   "cell_type": "markdown",
   "id": "ef4eb7dc",
   "metadata": {},
   "source": [
    "쓰레드 실행 -> 다른 class와 동시에 작동"
   ]
  },
  {
   "cell_type": "markdown",
   "id": "77c3a499",
   "metadata": {},
   "source": [
    "가능한 모션 \n",
    "1. (\"init\") : 위치 0으로\n",
    "2. (\"reset\") : 중간점(초기위치)\n",
    "3. (\"move\", value) : value만큼 움직임\n",
    "4. (\"close\") : 끄기"
   ]
  },
  {
   "cell_type": "code",
   "execution_count": 7,
   "id": "fa4dd77c",
   "metadata": {},
   "outputs": [],
   "source": [
    "count_thread.start()\n",
    "lc_thread.start()\n",
    "lc_thread.add_move(\"reset\")\n",
    "lc_thread.add_move(\"move\", 20)\n",
    "lc_thread.add_move(\"move\", -10)"
   ]
  },
  {
   "cell_type": "code",
   "execution_count": 10,
   "metadata": {},
   "outputs": [],
   "source": [
    "lc_thread.add_move(\"init\", 171)"
   ]
  },
  {
   "cell_type": "markdown",
   "metadata": {},
   "source": [
    "쓰레드 종료 -> 근데 왜 안되는지 모르겠음. 파이썬 끄면 그냥 알아서 해제되니 무시"
   ]
  },
  {
   "cell_type": "code",
   "execution_count": null,
   "metadata": {},
   "outputs": [],
   "source": [
    "lc_thread.queue.join()\n",
    "\n",
    "lc_thread.stop()\n",
    "lc_thread.join()\n",
    "count_thread.join()"
   ]
  },
  {
   "cell_type": "code",
   "execution_count": null,
   "metadata": {},
   "outputs": [],
   "source": []
  }
 ],
 "metadata": {
  "kernelspec": {
   "display_name": "Python 3",
   "language": "python",
   "name": "python3"
  },
  "language_info": {
   "codemirror_mode": {
    "name": "ipython",
    "version": 3
   },
   "file_extension": ".py",
   "mimetype": "text/x-python",
   "name": "python",
   "nbconvert_exporter": "python",
   "pygments_lexer": "ipython3",
   "version": "3.9.12"
  }
 },
 "nbformat": 4,
 "nbformat_minor": 5
}
