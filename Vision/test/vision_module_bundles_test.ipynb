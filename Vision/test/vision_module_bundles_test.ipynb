{
 "cells": [
  {
   "cell_type": "code",
   "execution_count": 1,
   "metadata": {},
   "outputs": [],
   "source": [
    "import vision_module_bundles as v"
   ]
  },
  {
   "cell_type": "code",
   "execution_count": 5,
   "metadata": {},
   "outputs": [
    {
     "name": "stdout",
     "output_type": "stream",
     "text": [
      "(640, 360)\n",
      "(640, 360)\n"
     ]
    }
   ],
   "source": [
    "# openCam TEST \n",
    "cam1 = v.openCam(0)\n",
    "cam2 = v.openCam(1)\n",
    "\n",
    "print(cam1.getFrameSize())\n",
    "print(cam2.getFrameSize())\n",
    "\n",
    "cam1.release()\n",
    "cam2.release()"
   ]
  },
  {
   "cell_type": "code",
   "execution_count": 3,
   "metadata": {},
   "outputs": [
    {
     "name": "stdout",
     "output_type": "stream",
     "text": [
      "클릭됨 // \n",
      "clicked points (x,y) : [[390, 161]]\n",
      "클릭됨 // \n",
      "clicked points (x,y) : [[421, 153]]\n"
     ]
    }
   ],
   "source": [
    "# clickPointPos TEST\n",
    "cam1 = v.openCam(0)\n",
    "cam2 = v.openCam(1)\n",
    "\n",
    "CP_1 = v.clickPointPos(cam1.cap)\n",
    "CP_2 = v.clickPointPos(cam2.cap)\n",
    "\n",
    "CP_1.start()\n",
    "CP_2.start()\n",
    "\n",
    "CP_1.close()\n",
    "CP_2.close()"
   ]
  },
  {
   "cell_type": "code",
   "execution_count": 6,
   "metadata": {},
   "outputs": [
    {
     "name": "stdout",
     "output_type": "stream",
     "text": [
      "Depth:  149.2\n"
     ]
    }
   ],
   "source": [
    "# calDepth TEST\n",
    "cam1 = v.openCam(0)\n",
    "cam2 = v.openCam(1)\n",
    "\n",
    "CD = v.calDepth(cam1.cap, cam2.cap)\n",
    "\n",
    "CD.start(CP_1.coordinate_list[-1], CP_2.coordinate_list[-1])\n",
    "\n",
    "CD.close() "
   ]
  },
  {
   "cell_type": "code",
   "execution_count": null,
   "metadata": {},
   "outputs": [],
   "source": [
    "# ROIcalibration_makePar_single TEST \n",
    "cam1 = v.openCam(0)\n",
    "\n",
    "roiMaker1 = v.ROIcalibration_makePar_single(cam1.cap) \n",
    "\n",
    "roiMaker1.createCalibMap()\n",
    "\n",
    "roiMaker1.close() "
   ]
  },
  {
   "cell_type": "code",
   "execution_count": null,
   "metadata": {},
   "outputs": [],
   "source": [
    "# ROIcalibration_single TEST \n",
    "cam1 = v.openCam(0)\n",
    "\n",
    "roiCal1 = v.ROIcalibration_single(cam1.cap)\n",
    "\n",
    "roiCal1.start()\n",
    "\n",
    "roiCal1.close()"
   ]
  },
  {
   "cell_type": "code",
   "execution_count": null,
   "metadata": {},
   "outputs": [],
   "source": [
    "# 이하 TEST code 생략 "
   ]
  },
  {
   "cell_type": "code",
   "execution_count": null,
   "metadata": {},
   "outputs": [],
   "source": []
  }
 ],
 "metadata": {
  "kernelspec": {
   "display_name": "Python 3 (ipykernel)",
   "language": "python",
   "name": "python3"
  },
  "language_info": {
   "codemirror_mode": {
    "name": "ipython",
    "version": 3
   },
   "file_extension": ".py",
   "mimetype": "text/x-python",
   "name": "python",
   "nbconvert_exporter": "python",
   "pygments_lexer": "ipython3",
   "version": "3.11.4"
  }
 },
 "nbformat": 4,
 "nbformat_minor": 4
}
