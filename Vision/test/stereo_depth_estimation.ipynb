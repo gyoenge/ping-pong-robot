{
 "cells": [
  {
   "cell_type": "markdown",
   "metadata": {},
   "source": [
    "**reference** <br>\n",
    " : https://github.com/niconielsen32/ComputerVision/tree/master/StereoVisionDepthEstimation "
   ]
  },
  {
   "cell_type": "markdown",
   "metadata": {},
   "source": [
    "import module"
   ]
  },
  {
   "cell_type": "code",
   "execution_count": 1,
   "metadata": {},
   "outputs": [],
   "source": [
    "import sys\n",
    "import cv2\n",
    "import numpy as np\n",
    "import time\n",
    "import imutils\n",
    "from matplotlib import pyplot as plt\n",
    "\n",
    "# Function for stereo vision and depth estimation\n",
    "import triangulation as tri\n",
    "import calibration"
   ]
  },
  {
   "cell_type": "markdown",
   "metadata": {},
   "source": [
    "### stereo vision set-up parameters"
   ]
  },
  {
   "cell_type": "code",
   "execution_count": 2,
   "metadata": {},
   "outputs": [],
   "source": [
    "frame_rate = 23 # 120     # Camera frame rate (maximum at 120 fps)\n",
    "B = 24               # Distance between the cameras [cm]\n",
    "f = 10               # Camera lense's focal length [mm]\n",
    "alpha = 82.1 # 70.42 # 82.1        # Camera field of view in the horisontal plane [degrees]"
   ]
  },
  {
   "cell_type": "markdown",
   "metadata": {},
   "source": [
    "### depth estimation TEST with fixed-point"
   ]
  },
  {
   "cell_type": "markdown",
   "metadata": {},
   "source": [
    "* 점 좌표 설정"
   ]
  },
  {
   "cell_type": "code",
   "execution_count": null,
   "metadata": {},
   "outputs": [],
   "source": [
    "# right_point = [190,330] # 노란점 1 \n",
    "# left_point = [237,337]\n",
    "# right_point = [251,271] # 노란점 2 \n",
    "# left_point = [295,276]\n",
    "right_point = [339,369] # 노란점 3 \n",
    "left_point = [389,379]\n",
    "# right_point = [365,304] # 노란점 4 \n",
    "# left_point = [415,315]\n",
    "\n",
    "# right_point = [232,300] # 검은 점 1 \n",
    "# left_point = [289,311]\n",
    "# right_point = [56,157] # steroL0.png - 체커보드 0,0 점 \n",
    "# left_point = [318,166]"
   ]
  },
  {
   "cell_type": "code",
   "execution_count": 16,
   "metadata": {},
   "outputs": [],
   "source": [
    "right_point = [283,429] # 탁구대 중앙 아래 점 \n",
    "left_point = [363,433]"
   ]
  },
  {
   "cell_type": "markdown",
   "metadata": {},
   "source": [
    "* 점의 depth 추출"
   ]
  },
  {
   "cell_type": "code",
   "execution_count": 18,
   "metadata": {},
   "outputs": [],
   "source": [
    "# Open both cameras\n",
    "cap_right = cv2.VideoCapture(2, cv2.CAP_DSHOW)                    \n",
    "cap_left =  cv2.VideoCapture(1, cv2.CAP_DSHOW)\n",
    "\n",
    "# Main loop for depth estimation using stereo vision\n",
    "while(cap_right.isOpened() and cap_left.isOpened()):\n",
    "    start = time.time()\n",
    "    \n",
    "    succes_right, frame_right = cap_right.read()\n",
    "    succes_left, frame_left = cap_left.read()\n",
    "\n",
    "    ################## CALIBRATION #########################################################\n",
    "\n",
    "#     c\n",
    "\n",
    "    ########################################################################################\n",
    " \n",
    "    # If cannot catch any frame, break\n",
    "    if not succes_right or not succes_left:                    \n",
    "        break\n",
    "\n",
    "#     start = time.time()\n",
    "        \n",
    "    ################## CALCULATING DEPTH #########################################################\n",
    "    \n",
    "    # Function to calculate depth of object. Outputs vector of all depths in case of several balls.\n",
    "    # All formulas used to find depth is in video presentaion\n",
    "    depth = tri.find_depth(right_point, left_point, frame_right, frame_left, B, f, alpha) \n",
    "    \n",
    "    cv2.putText(frame_right, \"Distance: \" + str(round(depth,1)), (50,50), cv2.FONT_HERSHEY_SIMPLEX, 1.2, (0,255,0),3)\n",
    "    cv2.putText(frame_left, \"Distance: \" + str(round(depth,1)), (50,50), cv2.FONT_HERSHEY_SIMPLEX, 1.2, (0,255,0),3)\n",
    "    # Multiply computer value with 205.8 to get real-life depth in [cm]. The factor was found manually.\n",
    "    print(\"Depth: \", str(round(depth,1)))\n",
    "    \n",
    "    ########################################################################################\n",
    "\n",
    "    end = time.time()\n",
    "    totalTime = end - start\n",
    "    if totalTime != 0:\n",
    "        fps = 1 / totalTime\n",
    "        #print(\"FPS: \", fps)\n",
    "        cv2.putText(frame_right, f'FPS: {int(fps)}', (20,450), cv2.FONT_HERSHEY_SIMPLEX, 1.2, (0,255,0), 2)\n",
    "        cv2.putText(frame_left, f'FPS: {int(fps)}', (20,450), cv2.FONT_HERSHEY_SIMPLEX, 1.2, (0,255,0), 2)  \n",
    "    else:\n",
    "        print(\"totalTime converges to zero\")     \n",
    "    \n",
    "    # Show the frames\n",
    "    cv2.imshow(\"frame right\", frame_right) \n",
    "    cv2.imshow(\"frame left\", frame_left)\n",
    "    \n",
    "    # Hit \"q\" to close the window\n",
    "    if cv2.waitKey(1) & 0xFF == ord('q'):\n",
    "        break\n",
    "\n",
    "# Release and destroy all windows before termination\n",
    "cap_right.release()\n",
    "cap_left.release()\n",
    "\n",
    "cv2.destroyAllWindows()"
   ]
  },
  {
   "cell_type": "markdown",
   "metadata": {},
   "source": [
    "### depth map SGBM TEST (fixed-point)"
   ]
  },
  {
   "cell_type": "code",
   "execution_count": null,
   "metadata": {},
   "outputs": [],
   "source": [
    "# Open both cameras\n",
    "cap_right = cv2.VideoCapture(2, cv2.CAP_DSHOW)                    \n",
    "cap_left =  cv2.VideoCapture(1, cv2.CAP_DSHOW)\n",
    "\n",
    "# Main loop for depth estimation using stereo vision\n",
    "while(cap_right.isOpened() and cap_left.isOpened()):\n",
    "    start = time.time()\n",
    "    \n",
    "    succes_right, frame_right = cap_right.read()\n",
    "    succes_left, frame_left = cap_left.read()\n",
    "\n",
    "    # 이미지 크기와 타입 일치시키기\n",
    "    height, width = frame_left.shape[:2]\n",
    "    frame_right = cv2.resize(frame_right, (width, height))\n",
    "\n",
    "    # 스테레오 비전을 위한 SGBM(Semi-Global Block Matching) 알고리즘 생성\n",
    "    stereo = cv2.StereoSGBM_create(\n",
    "        minDisparity=0,\n",
    "        numDisparities=16,  # 최대 차이값 범위 (16의 배수로 설정)\n",
    "        blockSize=5,\n",
    "        P1=8 * 3 * 5 ** 2,\n",
    "        P2=32 * 3 * 5 ** 2,\n",
    "        disp12MaxDiff=1,\n",
    "        uniquenessRatio=10,\n",
    "        speckleWindowSize=100,\n",
    "        speckleRange=32,\n",
    "        preFilterCap=63\n",
    "    )\n",
    "\n",
    "    # 스테레오 이미지를 흑백으로 변환\n",
    "    left_gray = cv2.cvtColor(frame_left, cv2.COLOR_BGR2GRAY)\n",
    "    right_gray = cv2.cvtColor(frame_right, cv2.COLOR_BGR2GRAY)\n",
    "\n",
    "    # 스테레오 매칭 수행\n",
    "    disparity = stereo.compute(left_gray, right_gray)\n",
    "\n",
    "    # 깊이 맵을 0-255 사이로 정규화\n",
    "    normalized_disparity = cv2.normalize(disparity, None, alpha=0, beta=255, norm_type=cv2.NORM_MINMAX, dtype=cv2.CV_8U)\n",
    "\n",
    "    # Show the frames\n",
    "    cv2.imshow(\"frame right\", frame_right) \n",
    "    cv2.imshow(\"frame left\", frame_left)\n",
    "    \n",
    "    # Hit \"q\" to close the window\n",
    "    if cv2.waitKey(1) & 0xFF == ord('q'):\n",
    "        break\n",
    "\n",
    "# Release and destroy all windows before termination\n",
    "cap_right.release()\n",
    "cap_left.release()\n",
    "\n",
    "cv2.destroyAllWindows()"
   ]
  }
 ],
 "metadata": {
  "kernelspec": {
   "display_name": "Python 3",
   "language": "python",
   "name": "python3"
  },
  "language_info": {
   "codemirror_mode": {
    "name": "ipython",
    "version": 3
   },
   "file_extension": ".py",
   "mimetype": "text/x-python",
   "name": "python",
   "nbconvert_exporter": "python",
   "pygments_lexer": "ipython3",
   "version": "3.8.5"
  }
 },
 "nbformat": 4,
 "nbformat_minor": 4
}
