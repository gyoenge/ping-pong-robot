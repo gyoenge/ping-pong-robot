{
 "cells": [
  {
   "cell_type": "code",
   "execution_count": 3,
   "metadata": {},
   "outputs": [],
   "source": [
    "import cv2 \n",
    "import numpy as np"
   ]
  },
  {
   "cell_type": "markdown",
   "metadata": {},
   "source": [
    "### xl_xr_data"
   ]
  },
  {
   "cell_type": "code",
   "execution_count": 11,
   "metadata": {},
   "outputs": [],
   "source": [
    "xl_xr_data = []\n",
    "\n",
    "xl_xr_data.append([[78, 147], [73, 143], [69, 139], [64, 132], [58, 126]])\n",
    "xl_xr_data.append([[111, 170], [108, 167], [106, 163], [101, 159], [99, 156]])\n",
    "xl_xr_data.append([[118, 167], [116, 165], [115, 163], [113, 162], [111, 159]])\n",
    "xl_xr_data.append([[117, 159], [118, 160], [118, 159], [118, 158], [117, 156]])\n",
    "xl_xr_data.append([[129, 163], [128, 163], [128, 161], [126, 160], [126, 160]])\n",
    "xl_xr_data.append([[159, 191], [161, 191], [164, 192], [165, 193], [166, 195]])\n",
    "xl_xr_data.append([[178, 202], [180, 203], [181, 204], [181, 205], [183, 206]])\n",
    "xl_xr_data.append([[175, 194], [175, 194], [177, 193], [176, 194], [176, 194]])\n",
    "xl_xr_data.append([[177, 192], [177, 190], [177, 190], [176, 189], [176, 189]])\n",
    "xl_xr_data.append([[187, 197], [187, 195], [186, 194], [185, 193], [185, 193]])"
   ]
  },
  {
   "cell_type": "code",
   "execution_count": 12,
   "metadata": {},
   "outputs": [
    {
     "name": "stdout",
     "output_type": "stream",
     "text": [
      "[[[78, 147], [73, 143], [69, 139], [64, 132], [58, 126]], [[111, 170], [108, 167], [106, 163], [101, 159], [99, 156]], [[118, 167], [116, 165], [115, 163], [113, 162], [111, 159]], [[117, 159], [118, 160], [118, 159], [118, 158], [117, 156]], [[129, 163], [128, 163], [128, 161], [126, 160], [126, 160]], [[159, 191], [161, 191], [164, 192], [165, 193], [166, 195]], [[178, 202], [180, 203], [181, 204], [181, 205], [183, 206]], [[175, 194], [175, 194], [177, 193], [176, 194], [176, 194]], [[177, 192], [177, 190], [177, 190], [176, 189], [176, 189]], [[187, 197], [187, 195], [186, 194], [185, 193], [185, 193]]]\n"
     ]
    }
   ],
   "source": [
    "print(xl_xr_data)"
   ]
  },
  {
   "cell_type": "markdown",
   "metadata": {},
   "source": [
    "### center 변환 xl_xr_data"
   ]
  },
  {
   "cell_type": "code",
   "execution_count": 13,
   "metadata": {},
   "outputs": [
    {
     "name": "stdout",
     "output_type": "stream",
     "text": [
      "[[[-242, -173], [-247, -177], [-251, -181], [-256, -188], [-262, -194]], [[-209, -150], [-212, -153], [-214, -157], [-219, -161], [-221, -164]], [[-202, -153], [-204, -155], [-205, -157], [-207, -158], [-209, -161]], [[-203, -161], [-202, -160], [-202, -161], [-202, -162], [-203, -164]], [[-191, -157], [-192, -157], [-192, -159], [-194, -160], [-194, -160]], [[-161, -129], [-159, -129], [-156, -128], [-155, -127], [-154, -125]], [[-142, -118], [-140, -117], [-139, -116], [-139, -115], [-137, -114]], [[-145, -126], [-145, -126], [-143, -127], [-144, -126], [-144, -126]], [[-143, -128], [-143, -130], [-143, -130], [-144, -131], [-144, -131]], [[-133, -123], [-133, -125], [-134, -126], [-135, -127], [-135, -127]]]\n"
     ]
    }
   ],
   "source": [
    "for xl_xr_list in xl_xr_data:\n",
    "    for xl_xr in xl_xr_list:\n",
    "        xl_xr[0] = xl_xr[0] - (640//2)\n",
    "        xl_xr[1] = xl_xr[1] - (640//2)\n",
    "        \n",
    "print(xl_xr_data)"
   ]
  },
  {
   "cell_type": "markdown",
   "metadata": {},
   "source": [
    "### 보정"
   ]
  },
  {
   "cell_type": "code",
   "execution_count": 15,
   "metadata": {},
   "outputs": [
    {
     "name": "stdout",
     "output_type": "stream",
     "text": [
      "[[-242, 69], [-247, 70], [-251, 70], [-256, 68], [-262, 68]],\n",
      "[[-209, 59], [-212, 59], [-214, 57], [-219, 58], [-221, 57]],\n",
      "[[-202, 49], [-204, 49], [-205, 48], [-207, 49], [-209, 48]],\n",
      "[[-203, 42], [-202, 42], [-202, 41], [-202, 40], [-203, 39]],\n",
      "[[-191, 34], [-192, 35], [-192, 33], [-194, 34], [-194, 34]],\n",
      "[[-161, 32], [-159, 30], [-156, 28], [-155, 28], [-154, 29]],\n",
      "[[-142, 24], [-140, 23], [-139, 23], [-139, 24], [-137, 23]],\n",
      "[[-145, 19], [-145, 19], [-143, 16], [-144, 18], [-144, 18]],\n",
      "[[-143, 15], [-143, 13], [-143, 13], [-144, 13], [-144, 13]],\n",
      "[[-133, 10], [-133, 8], [-134, 8], [-135, 8], [-135, 8]],\n"
     ]
    }
   ],
   "source": [
    "new_list = [] # 각 z에 대해 [xL, x_disparity]의 리스트로 이루어져 있음 \n",
    "\n",
    "for original_list in xl_xr_data:\n",
    "    modified_list = [[x[0], x[1] - x[0]] for x in original_list]\n",
    "    print(f\"{modified_list},\")\n",
    "    new_list.append(modified_list)"
   ]
  },
  {
   "cell_type": "code",
   "execution_count": 16,
   "metadata": {},
   "outputs": [],
   "source": [
    "##### (0, 0)이 frame 좌측상단인 좌표값 xl 버전 ################################\n",
    "# xl_xdisparity_data = [\n",
    "# [[78, 69], [73, 70], [69, 70], [64, 68], [58, 68]],        # z = 66.1\n",
    "# [[111, 59], [108, 59], [106, 57], [101, 58], [99, 57]],    # z = 60.1\n",
    "# [[118, 49], [116, 49], [115, 48], [113, 49], [111, 48]],   # z = 54.1\n",
    "# [[117, 42], [118, 42], [118, 41], [118, 40], [117, 39]],   # z = 48.1\n",
    "# [[129, 34], [128, 35], [128, 33], [126, 34], [126, 34]],   # z = 42.1\n",
    "# [[159, 32], [161, 30], [164, 28], [165, 28], [166, 29]],   # z = 38\n",
    "# [[178, 24], [180, 23], [181, 23], [181, 24], [183, 23]],   # z = 32\n",
    "# [[175, 19], [175, 19], [177, 16], [176, 18], [176, 18]],   # z = 26\n",
    "# [[177, 15], [177, 13], [177, 13], [176, 13], [176, 13]],   # z = 20\n",
    "# [[187, 10], [187, 8], [186, 8], [185, 8], [185, 8]]]       # z = 14\n",
    "\n",
    "##### (0, 0)이 CL인 좌표값 xl 버전 ###########################################\n",
    "xl_xdisparity_data = [\n",
    "[[-242, 69], [-247, 70], [-251, 70], [-256, 68], [-262, 68]],\n",
    "[[-209, 59], [-212, 59], [-214, 57], [-219, 58], [-221, 57]],\n",
    "[[-202, 49], [-204, 49], [-205, 48], [-207, 49], [-209, 48]],\n",
    "[[-203, 42], [-202, 42], [-202, 41], [-202, 40], [-203, 39]],\n",
    "[[-191, 34], [-192, 35], [-192, 33], [-194, 34], [-194, 34]],\n",
    "[[-161, 32], [-159, 30], [-156, 28], [-155, 28], [-154, 29]],\n",
    "[[-142, 24], [-140, 23], [-139, 23], [-139, 24], [-137, 23]], \n",
    "[[-145, 19], [-145, 19], [-143, 16], [-144, 18], [-144, 18]],\n",
    "[[-143, 15], [-143, 13], [-143, 13], [-144, 13], [-144, 13]],\n",
    "[[-133, 10], [-133, 8], [-134, 8], [-135, 8], [-135, 8]]]\n",
    "\n",
    "##### xl_xdisparity_data의 각 행에 대응되는 z data 값 ########################\n",
    "z_data = [66.1, 60.1, 54.1, 48.1, 42.1, 38, 32, 26, 20, 14]"
   ]
  },
  {
   "cell_type": "code",
   "execution_count": 17,
   "metadata": {},
   "outputs": [
    {
     "name": "stdout",
     "output_type": "stream",
     "text": [
      "395.1670900912165\n"
     ]
    }
   ],
   "source": [
    "ALPHA = 78   ##############################  \"\"\"맞는지 알 수 없음\"\"\"\n",
    "def cal_fpixel(frame_width, alpha=ALPHA): # : find depth using triangulation \n",
    "    # CONVERT FOCAL LENGTH f FROM [mm] TO [pixel]: \n",
    "    f_pixel = (frame_width * 0.5) / np.tan(alpha * 0.5 * np.pi/180)\n",
    "    return f_pixel \n",
    "\n",
    "print(cal_fpixel(640))"
   ]
  },
  {
   "cell_type": "code",
   "execution_count": 22,
   "metadata": {},
   "outputs": [],
   "source": [
    "# parameter 설정\n",
    "# 1. for cal_zdepth_stereoTriangulation\n",
    "F_PIXEL = (157/152)*640  # [pixel] ##############################  \"\"\"맞는지 알 수 없음\"\"\" , 화각으로부터의 계산값 \n",
    "BASELINE = 24  # [cm]\n",
    "# 2. for cal_zdepth_measurment\n",
    "CAMTOTABLE = 157 # [cm]"
   ]
  },
  {
   "cell_type": "code",
   "execution_count": 25,
   "metadata": {},
   "outputs": [],
   "source": [
    "def cal_zdepth_stereoTriangulation(x_disparity, f_pixel, baseline):\n",
    "    zDepth = (baseline*f_pixel)/x_disparity  \n",
    "    return zDepth   # [cm]\n",
    "def cal_zdepth_measurment(cam_to_table, table_upper_z):\n",
    "    zDepth = cam_to_table - table_upper_z  \n",
    "    return zDepth   # [cm]"
   ]
  },
  {
   "cell_type": "code",
   "execution_count": 26,
   "metadata": {},
   "outputs": [],
   "source": [
    "def find_realX(x_L_forCL, x_disparity, z):\n",
    "    ###### 1. z_depth 계산 ##########################################\n",
    "    # zDepth = cal_zdepth_stereoTriangulation(x_disparity, F_PIXEL, BASELINE)  \n",
    "    zDepth = cal_zdepth_measurment(CAMSTOTABLE, z)  # [cm]\n",
    "    ###### 2. 실제 X 계산 ##########################################\n",
    "    #x = (zDepth*(x_L-320))/F_PIXEL  # [cm]\n",
    "    x = (zDepth*(x_L_forCL))/F_PIXEL  # [cm]\n",
    "    return x "
   ]
  },
  {
   "cell_type": "code",
   "execution_count": null,
   "metadata": {},
   "outputs": [],
   "source": [
    "# # image plane O를 기준으로 한 x_L \n",
    "# num = 0\n",
    "# for xl_xdisparity_list in xl_xdisparity_data:\n",
    "#     for xl_xdisparity in xl_xdisparity_list:\n",
    "#         print(xl_xdisparity[0]-320, end=\", \")\n",
    "#     print(\"\")\n",
    "#     num += 1"
   ]
  },
  {
   "cell_type": "code",
   "execution_count": 29,
   "metadata": {},
   "outputs": [
    {
     "name": "stdout",
     "output_type": "stream",
     "text": [
      "-55.69063291139241, -56.84126582278482, -57.76177215189874, -58.912405063291146, -60.29316455696203, \n",
      "-51.271139240506336, -52.007088607594945, -52.49772151898735, -53.72430379746836, -54.21493670886076, \n",
      "-52.622278481012664, -53.14329113924051, -53.40379746835443, -53.92481012658229, -54.44582278481013, \n",
      "-55.966329113924054, -55.69063291139241, -55.69063291139241, -55.69063291139241, -55.966329113924054, \n",
      "-55.55924050632912, -55.85012658227849, -55.85012658227849, -56.431898734177224, -56.431898734177224, \n",
      "-48.50379746835443, -47.90126582278481, -46.99746835443038, -46.69620253164557, -46.39493670886076, \n",
      "-44.936708860759495, -44.30379746835443, -43.9873417721519, -43.9873417721519, -43.35443037974684, \n",
      "-48.08860759493671, -48.08860759493671, -47.425316455696205, -47.756962025316454, -47.756962025316454, \n",
      "-49.59746835443038, -49.59746835443038, -49.59746835443038, -49.94430379746836, -49.94430379746836, \n",
      "-48.1493670886076, -48.1493670886076, -48.51139240506329, -48.87341772151899, -48.87341772151899, \n",
      "[[-55.69063291139241, -56.84126582278482, -57.76177215189874, -58.912405063291146, -60.29316455696203], [-51.271139240506336, -52.007088607594945, -52.49772151898735, -53.72430379746836, -54.21493670886076], [-52.622278481012664, -53.14329113924051, -53.40379746835443, -53.92481012658229, -54.44582278481013], [-55.966329113924054, -55.69063291139241, -55.69063291139241, -55.69063291139241, -55.966329113924054], [-55.55924050632912, -55.85012658227849, -55.85012658227849, -56.431898734177224, -56.431898734177224], [-48.50379746835443, -47.90126582278481, -46.99746835443038, -46.69620253164557, -46.39493670886076], [-44.936708860759495, -44.30379746835443, -43.9873417721519, -43.9873417721519, -43.35443037974684], [-48.08860759493671, -48.08860759493671, -47.425316455696205, -47.756962025316454, -47.756962025316454], [-49.59746835443038, -49.59746835443038, -49.59746835443038, -49.94430379746836, -49.94430379746836], [-48.1493670886076, -48.1493670886076, -48.51139240506329, -48.87341772151899, -48.87341772151899]]\n"
     ]
    }
   ],
   "source": [
    "# depth, f_pixel, x_L 기반으로 한 x값 보정 \n",
    "real_x_data = []\n",
    "\n",
    "num = 0\n",
    "for xl_xdisparity_list in xl_xdisparity_data:\n",
    "    temp = []\n",
    "    for xl_xdisparity in xl_xdisparity_list:\n",
    "        real_x = find_realX(xl_xdisparity[0], xl_xdisparity[1], z_data[num])\n",
    "        temp.append(real_x)\n",
    "        print(real_x, end=\", \")\n",
    "    real_x_data.append(temp)\n",
    "    print(\"\")\n",
    "    num += 1\n",
    "    \n",
    "print(real_x_data)"
   ]
  },
  {
   "cell_type": "markdown",
   "metadata": {},
   "source": [
    "### 실제 X 구한 것을 바탕으로 x_l[pixel]과 맞게 대응되는지 확인해보기 \n"
   ]
  },
  {
   "cell_type": "markdown",
   "metadata": {},
   "source": [
    "참고 값 : <br>\n",
    "- 탁구대 가로 길이 (table_width) : 152 [cm]\n",
    "- 탁구대 규격 : [-76, -76] ~ [76, 76]"
   ]
  },
  {
   "cell_type": "markdown",
   "metadata": {},
   "source": [
    "참고 비율 : <br>\n",
    "- frame_width = 640 [pixel] \n",
    "- tabel_width = 152 [cm]  <br>\n",
    "->>> frame : tabel = 640 : 152  \n",
    "\n",
    "PIXEL_TO_CM = 152/640"
   ]
  },
  {
   "cell_type": "code",
   "execution_count": 34,
   "metadata": {},
   "outputs": [
    {
     "name": "stdout",
     "output_type": "stream",
     "text": [
      "10\n",
      "5\n"
     ]
    }
   ],
   "source": [
    "print(len(real_x_data))\n",
    "print(len(real_x_data[0]))"
   ]
  },
  {
   "cell_type": "code",
   "execution_count": 35,
   "metadata": {},
   "outputs": [
    {
     "name": "stdout",
     "output_type": "stream",
     "text": [
      "real_x_data와 xl_xdisparity_data의 list 갯수를 count했습니다\n",
      "list_count = 10\n",
      "real_x_data와 xl_xdisparity_data의 list 내 item 갯수를 count했습니다\n",
      "item_count = 5\n"
     ]
    }
   ],
   "source": [
    "# list_count \n",
    "real_x_data_list_count = len(real_x_data)\n",
    "xl_xdisparity_data_list_count = len(xl_xdisparity_data)\n",
    "if (real_x_data_list_count == xl_xdisparity_data_list_count):\n",
    "    list_count = real_x_data_list_count\n",
    "    print(\"real_x_data와 xl_xdisparity_data의 list 갯수를 count했습니다\")\n",
    "    print(f\"list_count = {list_count}\")\n",
    "else:\n",
    "    print(\"real_x_data와 xl_xdisparity_data의 list 갯수 규격이 다릅니다\")\n",
    "# item_count\n",
    "real_x_data_item_count = len(real_x_data[0])\n",
    "xl_xdisparity_data_item_count = len(xl_xdisparity_data[0])\n",
    "if (real_x_data_item_count == xl_xdisparity_data_item_count):\n",
    "    item_count = real_x_data_item_count\n",
    "    print(\"real_x_data와 xl_xdisparity_data의 list 내 item 갯수를 count했습니다\")\n",
    "    print(f\"item_count = {item_count}\")\n",
    "else:\n",
    "    print(\"real_x_data와 xl_xdisparity_data의 list 내 item 갯수 규격이 다릅니다\")"
   ]
  },
  {
   "cell_type": "code",
   "execution_count": 42,
   "metadata": {},
   "outputs": [
    {
     "name": "stdout",
     "output_type": "stream",
     "text": [
      "real_x : -55.69063291139241, x_l : -242\n",
      "calculated real_x from x_l: -55.69063291139241, \n",
      "real_x : -56.84126582278482, x_l : -247\n",
      "calculated real_x from x_l: -56.84126582278482, \n",
      "real_x : -57.76177215189874, x_l : -251\n",
      "calculated real_x from x_l: -57.76177215189874, \n",
      "real_x : -58.912405063291146, x_l : -256\n",
      "calculated real_x from x_l: -58.912405063291146, \n",
      "real_x : -60.29316455696203, x_l : -262\n",
      "calculated real_x from x_l: -60.29316455696203, \n",
      "======================================\n",
      "real_x : -51.271139240506336, x_l : -209\n",
      "calculated real_x from x_l: -51.271139240506336, \n",
      "real_x : -52.007088607594945, x_l : -212\n",
      "calculated real_x from x_l: -52.007088607594945, \n",
      "real_x : -52.49772151898735, x_l : -214\n",
      "calculated real_x from x_l: -52.49772151898735, \n",
      "real_x : -53.72430379746836, x_l : -219\n",
      "calculated real_x from x_l: -53.72430379746836, \n",
      "real_x : -54.21493670886076, x_l : -221\n",
      "calculated real_x from x_l: -54.21493670886076, \n",
      "======================================\n",
      "real_x : -52.622278481012664, x_l : -202\n",
      "calculated real_x from x_l: -52.622278481012664, \n",
      "real_x : -53.14329113924051, x_l : -204\n",
      "calculated real_x from x_l: -53.14329113924051, \n",
      "real_x : -53.40379746835443, x_l : -205\n",
      "calculated real_x from x_l: -53.40379746835443, \n",
      "real_x : -53.92481012658229, x_l : -207\n",
      "calculated real_x from x_l: -53.92481012658229, \n",
      "real_x : -54.44582278481013, x_l : -209\n",
      "calculated real_x from x_l: -54.44582278481013, \n",
      "======================================\n",
      "real_x : -55.966329113924054, x_l : -203\n",
      "calculated real_x from x_l: -55.966329113924054, \n",
      "real_x : -55.69063291139241, x_l : -202\n",
      "calculated real_x from x_l: -55.69063291139241, \n",
      "real_x : -55.69063291139241, x_l : -202\n",
      "calculated real_x from x_l: -55.69063291139241, \n",
      "real_x : -55.69063291139241, x_l : -202\n",
      "calculated real_x from x_l: -55.69063291139241, \n",
      "real_x : -55.966329113924054, x_l : -203\n",
      "calculated real_x from x_l: -55.966329113924054, \n",
      "======================================\n",
      "real_x : -55.55924050632912, x_l : -191\n",
      "calculated real_x from x_l: -55.55924050632912, \n",
      "real_x : -55.85012658227849, x_l : -192\n",
      "calculated real_x from x_l: -55.85012658227849, \n",
      "real_x : -55.85012658227849, x_l : -192\n",
      "calculated real_x from x_l: -55.85012658227849, \n",
      "real_x : -56.431898734177224, x_l : -194\n",
      "calculated real_x from x_l: -56.431898734177224, \n",
      "real_x : -56.431898734177224, x_l : -194\n",
      "calculated real_x from x_l: -56.431898734177224, \n",
      "======================================\n",
      "real_x : -48.50379746835443, x_l : -161\n",
      "calculated real_x from x_l: -48.50379746835443, \n",
      "real_x : -47.90126582278481, x_l : -159\n",
      "calculated real_x from x_l: -47.90126582278481, \n",
      "real_x : -46.99746835443038, x_l : -156\n",
      "calculated real_x from x_l: -46.99746835443038, \n",
      "real_x : -46.69620253164557, x_l : -155\n",
      "calculated real_x from x_l: -46.69620253164557, \n",
      "real_x : -46.39493670886076, x_l : -154\n",
      "calculated real_x from x_l: -46.39493670886076, \n",
      "======================================\n",
      "real_x : -44.936708860759495, x_l : -142\n",
      "calculated real_x from x_l: -44.936708860759495, \n",
      "real_x : -44.30379746835443, x_l : -140\n",
      "calculated real_x from x_l: -44.30379746835443, \n",
      "real_x : -43.9873417721519, x_l : -139\n",
      "calculated real_x from x_l: -43.9873417721519, \n",
      "real_x : -43.9873417721519, x_l : -139\n",
      "calculated real_x from x_l: -43.9873417721519, \n",
      "real_x : -43.35443037974684, x_l : -137\n",
      "calculated real_x from x_l: -43.35443037974684, \n",
      "======================================\n",
      "real_x : -48.08860759493671, x_l : -145\n",
      "calculated real_x from x_l: -48.08860759493671, \n",
      "real_x : -48.08860759493671, x_l : -145\n",
      "calculated real_x from x_l: -48.08860759493671, \n",
      "real_x : -47.425316455696205, x_l : -143\n",
      "calculated real_x from x_l: -47.425316455696205, \n",
      "real_x : -47.756962025316454, x_l : -144\n",
      "calculated real_x from x_l: -47.756962025316454, \n",
      "real_x : -47.756962025316454, x_l : -144\n",
      "calculated real_x from x_l: -47.756962025316454, \n",
      "======================================\n",
      "real_x : -49.59746835443038, x_l : -143\n",
      "calculated real_x from x_l: -49.59746835443038, \n",
      "real_x : -49.59746835443038, x_l : -143\n",
      "calculated real_x from x_l: -49.59746835443038, \n",
      "real_x : -49.59746835443038, x_l : -143\n",
      "calculated real_x from x_l: -49.59746835443038, \n",
      "real_x : -49.94430379746836, x_l : -144\n",
      "calculated real_x from x_l: -49.94430379746836, \n",
      "real_x : -49.94430379746836, x_l : -144\n",
      "calculated real_x from x_l: -49.94430379746836, \n",
      "======================================\n",
      "real_x : -48.1493670886076, x_l : -133\n",
      "calculated real_x from x_l: -48.1493670886076, \n",
      "real_x : -48.1493670886076, x_l : -133\n",
      "calculated real_x from x_l: -48.1493670886076, \n",
      "real_x : -48.51139240506329, x_l : -134\n",
      "calculated real_x from x_l: -48.51139240506329, \n",
      "real_x : -48.87341772151899, x_l : -135\n",
      "calculated real_x from x_l: -48.87341772151899, \n",
      "real_x : -48.87341772151899, x_l : -135\n",
      "calculated real_x from x_l: -48.87341772151899, \n",
      "======================================\n"
     ]
    }
   ],
   "source": [
    "PIXEL_TO_CM = 152/640\n",
    "\n",
    "for list_index in range(list_count):\n",
    "    for item_index in range(item_count):\n",
    "        real_x = real_x_data[list_index][item_index]\n",
    "        x_l = xl_xdisparity_data[list_index][item_index][0]\n",
    "        print(f\"real_x : {real_x}, x_l : {x_l}\")\n",
    "        calculated_real_x = x_l * PIXEL_TO_CM\n",
    "        print(f\"calculated real_x from x_l: {real_x}, \")\n",
    "    print(\"======================================\")"
   ]
  },
  {
   "cell_type": "code",
   "execution_count": null,
   "metadata": {},
   "outputs": [],
   "source": []
  }
 ],
 "metadata": {
  "kernelspec": {
   "display_name": "Python 3",
   "language": "python",
   "name": "python3"
  },
  "language_info": {
   "codemirror_mode": {
    "name": "ipython",
    "version": 3
   },
   "file_extension": ".py",
   "mimetype": "text/x-python",
   "name": "python",
   "nbconvert_exporter": "python",
   "pygments_lexer": "ipython3",
   "version": "3.8.5"
  },
  "orig_nbformat": 4
 },
 "nbformat": 4,
 "nbformat_minor": 2
}
